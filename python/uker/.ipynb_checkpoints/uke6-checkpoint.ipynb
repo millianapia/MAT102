{
 "cells": [
  {
   "cell_type": "markdown",
   "metadata": {},
   "source": [
    "http://faculty.washington.edu/heathml/2018spring307/euler_method.pdf "
   ]
  },
  {
   "cell_type": "code",
   "execution_count": 42,
   "metadata": {},
   "outputs": [],
   "source": [
    "import numpy as np \n",
    "import math\n",
    "%matplotlib inline\n",
    "from matplotlib import pyplot as plt"
   ]
  },
  {
   "cell_type": "markdown",
   "metadata": {},
   "source": [
    "# Uke 6"
   ]
  },
  {
   "cell_type": "markdown",
   "metadata": {},
   "source": [
    "### Modellering og differensiallikninger"
   ]
  },
  {
   "cell_type": "markdown",
   "metadata": {},
   "source": [
    "Til nå i kurset har vi fokusert på å observere å analysere. Vi har sett på kjente funksjoner eller observasjonsvektorer og integrert/derivert disse. Vi har også løst ligninger med kjente funksjoner.\n",
    "Denne uken gikk vi videre til å gjøre antakelser og bruke disse til å modellere. Til dette trenger vi differensialligninger. \n",
    "Hvis funksjonen y(t) er ukjent, er det er ofte lettere å gjøre antakelser om stigningstallet ( den deriverte y'(t) ) enn om funksjonen i seg selv.\n",
    "Hvis vi har en funksjon for stigningstallet kan dette uttrykkes som en differensialligning y'(t) = F(y,t)\n",
    "Differensialligninger kan løses analytisk eller numerisk. Vi fokuserer på den numeriske løsningen:"
   ]
  },
  {
   "cell_type": "markdown",
   "metadata": {},
   "source": [
    "### Eulers metode"
   ]
  },
  {
   "cell_type": "markdown",
   "metadata": {},
   "source": [
    "Mest grunnleggende metode for å løse en differensialligning. Begynner i et startpunkt y = y(t0). Gjør et steg med lengde dt i retningen av stignigstallet F(y,t). Kan sees som en stegvis 1. orden tilnærming av den ukjente funksjonen y"
   ]
  },
  {
   "cell_type": "markdown",
   "metadata": {},
   "source": [
    "- x0 = startverdi for x\n",
    "- y0 = startverdi for y\n",
    "- xf = steg\n",
    "- n = iterasjoner"
   ]
  },
  {
   "cell_type": "code",
   "execution_count": 17,
   "metadata": {},
   "outputs": [],
   "source": [
    "function = lambda y: math.sqrt(4*y-1)"
   ]
  },
  {
   "cell_type": "code",
   "execution_count": 50,
   "metadata": {},
   "outputs": [
    {
     "data": {
      "text/plain": [
       "9835.300633842293"
      ]
     },
     "execution_count": 50,
     "metadata": {},
     "output_type": "execute_result"
    }
   ],
   "source": [
    "xf = 1\n",
    "n = 101\n",
    "x0 = 0\n",
    "y0 = 2\n",
    "\n",
    "deltax = 1\n",
    "\n",
    "x = np.zeros([n]) \n",
    "y = np.zeros([n])\n",
    "x[0] = x0\n",
    "y[0] = y0\n",
    "\n",
    "for i in range(1,n):\n",
    "    x[i] = x[i-1] + deltax   \n",
    "    y[i] = y[i-1] + (function(y[i-1]*deltax)) \n",
    "                   \n",
    "y[100]"
   ]
  },
  {
   "cell_type": "code",
   "execution_count": 41,
   "metadata": {},
   "outputs": [
    {
     "data": {
      "text/plain": [
       "Text(0.5,1,'Eulers metode')"
      ]
     },
     "execution_count": 41,
     "metadata": {},
     "output_type": "execute_result"
    },
    {
     "data": {
      "image/png": "[encoded data removed]",
      "text/plain": [
       "<Figure size 432x288 with 1 Axes>"
      ]
     },
     "metadata": {
      "needs_background": "light"
     },
     "output_type": "display_data"
    }
   ],
   "source": [
    "plt.plot(x,y,\"o\")\n",
    "plt.xlabel(\"X verdi\")\n",
    "plt.ylabel(\"Y verdi\")\n",
    "plt.title(\"Eulers metode\")"
   ]
  },
  {
   "cell_type": "markdown",
   "metadata": {},
   "source": [
    "### Modeller"
   ]
  },
  {
   "cell_type": "markdown",
   "metadata": {},
   "source": [
    "Vi så på noen andre eksempler på modeller enn de som er gitt i kompendiet. Alle modellene kunne løses med å endre F(y,t) y(0) i scriptet"
   ]
  },
  {
   "cell_type": "markdown",
   "metadata": {},
   "source": [
    "### Flytlinjer"
   ]
  },
  {
   "cell_type": "markdown",
   "metadata": {},
   "source": [
    "F(y,t) kan også benyttes til å lage stigningstall for alle mulige kombinasjoner av y- og t-verdier. Hvis vi plotter disse stigningstallene som vektorer får vi flytlinjer for den aktuelle ligningen. Alle løsninger vil følge linjene."
   ]
  },
  {
   "cell_type": "code",
   "execution_count": null,
   "metadata": {},
   "outputs": [],
   "source": []
  }
 ],
 "metadata": {
  "kernelspec": {
   "display_name": "Python 3",
   "language": "python",
   "name": "python3"
  },
  "language_info": {
   "codemirror_mode": {
    "name": "ipython",
    "version": 3
   },
   "file_extension": ".py",
   "mimetype": "text/x-python",
   "name": "python",
   "nbconvert_exporter": "python",
   "pygments_lexer": "ipython3",
   "version": "3.7.0"
  }
 },
 "nbformat": 4,
 "nbformat_minor": 2
}
