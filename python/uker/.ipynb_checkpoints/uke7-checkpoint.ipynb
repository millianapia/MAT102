{
 "cells": [
  {
   "cell_type": "code",
   "execution_count": 3,
   "metadata": {},
   "outputs": [],
   "source": [
    "import numpy as np \n",
    "import math\n",
    "%matplotlib inline\n",
    "from matplotlib import pyplot as plt"
   ]
  },
  {
   "cell_type": "markdown",
   "metadata": {},
   "source": [
    "# Uke 7"
   ]
  },
  {
   "cell_type": "markdown",
   "metadata": {},
   "source": [
    "# Ukesoppgave"
   ]
  },
  {
   "cell_type": "markdown",
   "metadata": {},
   "source": [
    "### Oppgave 1:\n",
    "Beregn integralene ved trapesmetoden\n",
    "1. $$\\int_0^π sin(x) \\,dx$$\n",
    "2. $$\\int_0^π sin(x^2) \\,dx$$\n"
   ]
  },
  {
   "cell_type": "code",
   "execution_count": null,
   "metadata": {},
   "outputs": [],
   "source": []
  },
  {
   "cell_type": "markdown",
   "metadata": {},
   "source": [
    "### Oppgave 2\n",
    "Bruk trapesmetoden til å finne en tilnærmet verdi av\n",
    "Bruk først 10, så 100, så 1000 delintervaller"
   ]
  },
  {
   "cell_type": "code",
   "execution_count": null,
   "metadata": {},
   "outputs": [],
   "source": []
  },
  {
   "cell_type": "markdown",
   "metadata": {},
   "source": [
    "### Oppgave 3:\n",
    "Løs oppgaver fra MIP for hånd eller ved hjelp av MATLAB:\n",
    "- 10.4.1 og 10.4.2 for hånd\n",
    "- 10.4.5 og 10.4.6 i MATLAB\n",
    "- 10.5.1 for hånd\n",
    "- 10.5.4 og 10.5.5 i MATLAB\n"
   ]
  },
  {
   "cell_type": "code",
   "execution_count": null,
   "metadata": {},
   "outputs": [],
   "source": []
  },
  {
   "cell_type": "code",
   "execution_count": null,
   "metadata": {},
   "outputs": [],
   "source": []
  },
  {
   "cell_type": "markdown",
   "metadata": {},
   "source": [
    "### Oppgave 4:\n",
    "Finn i hver oppgave funksjonen y=y(x) med Eulers metode, og plot løsningen.\n",
    "- y' = y^2 - x^2   og y(0) =4\n",
    "- y' = y^2 - x^2   og y(0) = -4\n",
    "- y' =y^2 + y + 1  og y(3) =2,3\n"
   ]
  },
  {
   "cell_type": "code",
   "execution_count": 111,
   "metadata": {},
   "outputs": [],
   "source": [
    "euler_function = lambda x,y: (math.pow(y,2))-(math.pow(x,2))"
   ]
  },
  {
   "cell_type": "code",
   "execution_count": 115,
   "metadata": {},
   "outputs": [],
   "source": [
    "def euler(f, xinit, xend, yinit, h):\n",
    "    N = (xend-xinit)/h\n",
    "\n",
    "    x = np.zeros([n]) \n",
    "    y = np.zeros([n])\n",
    "    x[0] = x0\n",
    "    y[0] = y0\n",
    "\n",
    "    for i in range(1,n):\n",
    "        x[i] = x[i-1] + deltax   \n",
    "        y[i] = y[i-1] + (function(x[i-1],y[i-1]*deltax))\n",
    "    return (x,y)"
   ]
  },
  {
   "cell_type": "markdown",
   "metadata": {},
   "source": [
    "### a"
   ]
  },
  {
   "cell_type": "code",
   "execution_count": 123,
   "metadata": {},
   "outputs": [],
   "source": [
    "xinit = 1 \n",
    "n = 10\n",
    "yinit = 4\n",
    "h = 0.2"
   ]
  },
  {
   "cell_type": "code",
   "execution_count": 124,
   "metadata": {},
   "outputs": [],
   "source": [
    "N = (n-xinit)/h\n",
    "t = np.linspace(1,h,b)\n",
    "#(x,y) = euler(euler_function,xinit,n,yinit,h)\n",
    "#ye = y\n",
    "#yi = 3*t+exp(1-t)"
   ]
  },
  {
   "cell_type": "code",
   "execution_count": 125,
   "metadata": {},
   "outputs": [],
   "source": [
    "#plt.plot(t,yi)\n",
    "#plt.plot(t,ye)"
   ]
  },
  {
   "cell_type": "markdown",
   "metadata": {},
   "source": [
    "### b"
   ]
  },
  {
   "cell_type": "code",
   "execution_count": 123,
   "metadata": {},
   "outputs": [],
   "source": [
    "xinit = 1 \n",
    "n = 10\n",
    "yinit = -4\n",
    "h = 0.2"
   ]
  },
  {
   "cell_type": "code",
   "execution_count": 124,
   "metadata": {},
   "outputs": [],
   "source": [
    "N = (n-xinit)/h\n",
    "t = np.linspace(1,h,b)\n",
    "#(x,y) = euler(euler_function,xinit,n,yinit,h)\n",
    "#ye = y\n",
    "#yi = 3*t+exp(1-t)"
   ]
  },
  {
   "cell_type": "code",
   "execution_count": 126,
   "metadata": {},
   "outputs": [],
   "source": [
    "#plt.plot(t,yi)\n",
    "#plt.plot(t,ye)"
   ]
  },
  {
   "cell_type": "markdown",
   "metadata": {},
   "source": [
    "### c"
   ]
  },
  {
   "cell_type": "code",
   "execution_count": 132,
   "metadata": {},
   "outputs": [],
   "source": [
    "euler_function2 = lambda y: (math.pow(y,2))+ y + 1"
   ]
  },
  {
   "cell_type": "code",
   "execution_count": 140,
   "metadata": {},
   "outputs": [],
   "source": [
    "def eulerY(f, xinit, xend, yinit, h):\n",
    "    N = (xend-xinit)/h\n",
    "\n",
    "    x = np.zeros([n]) \n",
    "    y = np.zeros([n])\n",
    "    x[0] = x0\n",
    "    y[0] = y0\n",
    "\n",
    "    for i in range(1,n):\n",
    "        x[i] = x[i-1] + deltax   \n",
    "        y[i] = y[i-1] + (f(y[i-1]*deltax))\n",
    "    return (x,y)"
   ]
  },
  {
   "cell_type": "code",
   "execution_count": 141,
   "metadata": {},
   "outputs": [],
   "source": [
    "xinit = 3\n",
    "n = 10\n",
    "yinit = 2.3\n",
    "h = 1"
   ]
  },
  {
   "cell_type": "code",
   "execution_count": 142,
   "metadata": {},
   "outputs": [],
   "source": [
    "N = (n-xinit)/h\n",
    "t = np.linspace(1,h,b)\n",
    "#(x,y) = eulerY(euler_function2,xinit,n,yinit,h)\n",
    "#ye = y\n",
    "#yi = 3*t+exp(1-t)"
   ]
  },
  {
   "cell_type": "code",
   "execution_count": 143,
   "metadata": {},
   "outputs": [],
   "source": [
    "#plt.plot(t,yi)\n",
    "#plt.plot(t,ye)"
   ]
  },
  {
   "cell_type": "markdown",
   "metadata": {},
   "source": [
    "### Oppgave 5:\n",
    "Bruk Eulers metode til å finne en tilnærmet løsning på startverdi-problemet\n",
    "- y' = sqrt{4y  - 1}, y(0) =2\n",
    "Bruk intervallet [0,10]. Varier skrittlengden til du er noenlunde sikker på svaret (se på verdien i\n",
    "10 ). Hva ville skjedd om du hadde valgt startverdien y(0)=0 ? Kan du si noe om hvorvidt svaret er for stort eller for lite? Hint: Tenk på hvordan de nye verdiene for y regnes ut når vi bruker Eulers metode."
   ]
  },
  {
   "cell_type": "code",
   "execution_count": null,
   "metadata": {},
   "outputs": [],
   "source": []
  },
  {
   "cell_type": "code",
   "execution_count": null,
   "metadata": {},
   "outputs": [],
   "source": []
  }
 ],
 "metadata": {
  "kernelspec": {
   "display_name": "Python 3",
   "language": "python",
   "name": "python3"
  },
  "language_info": {
   "codemirror_mode": {
    "name": "ipython",
    "version": 3
   },
   "file_extension": ".py",
   "mimetype": "text/x-python",
   "name": "python",
   "nbconvert_exporter": "python",
   "pygments_lexer": "ipython3",
   "version": "3.7.0"
  }
 },
 "nbformat": 4,
 "nbformat_minor": 2
}
